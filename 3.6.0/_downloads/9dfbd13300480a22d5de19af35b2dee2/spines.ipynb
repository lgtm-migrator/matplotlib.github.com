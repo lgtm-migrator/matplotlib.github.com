{
  "cells": [
    {
      "cell_type": "code",
      "execution_count": null,
      "metadata": {
        "collapsed": false
      },
      "outputs": [],
      "source": [
        "%matplotlib inline"
      ]
    },
    {
      "cell_type": "markdown",
      "metadata": {},
      "source": [
        "\n# Spines\n\nThis demo compares:\n\n- normal Axes, with spines on all four sides;\n- an Axes with spines only on the left and bottom;\n- an Axes using custom bounds to limit the extent of the spine.\n\nEach `.axes.Axes` has a list of `.Spine` objects, accessible\nvia the container ``ax.spines``.\n"
      ]
    },
    {
      "cell_type": "code",
      "execution_count": null,
      "metadata": {
        "collapsed": false
      },
      "outputs": [],
      "source": [
        "import numpy as np\nimport matplotlib.pyplot as plt\n\n\nx = np.linspace(0, 2 * np.pi, 100)\ny = 2 * np.sin(x)\n\n# Constrained layout makes sure the labels don't overlap the axes.\nfig, (ax0, ax1, ax2) = plt.subplots(nrows=3, constrained_layout=True)\n\nax0.plot(x, y)\nax0.set_title('normal spines')\n\nax1.plot(x, y)\nax1.set_title('bottom-left spines')\n\n# Hide the right and top spines\nax1.spines.right.set_visible(False)\nax1.spines.top.set_visible(False)\n# Only show ticks on the left and bottom spines\nax1.yaxis.set_ticks_position('left')\nax1.xaxis.set_ticks_position('bottom')\n\nax2.plot(x, y)\n\n# Only draw spine between the y-ticks\nax2.spines.left.set_bounds(-1, 1)\n# Hide the right and top spines\nax2.spines.right.set_visible(False)\nax2.spines.top.set_visible(False)\n# Only show ticks on the left and bottom spines\nax2.yaxis.set_ticks_position('left')\nax2.xaxis.set_ticks_position('bottom')\n\nplt.show()\n\n# .. admonition:: References\n#\n#    The use of the following functions, methods, classes and modules is shown\n#    in this example:\n#\n#    - `matplotlib.Spines.set_visible`\n#    - `matplotlib.Spines.set_bounds`\n#    - `matplotlib.axis.set_ticks_position`"
      ]
    }
  ],
  "metadata": {
    "kernelspec": {
      "display_name": "Python 3",
      "language": "python",
      "name": "python3"
    },
    "language_info": {
      "codemirror_mode": {
        "name": "ipython",
        "version": 3
      },
      "file_extension": ".py",
      "mimetype": "text/x-python",
      "name": "python",
      "nbconvert_exporter": "python",
      "pygments_lexer": "ipython3",
      "version": "3.10.4"
    }
  },
  "nbformat": 4,
  "nbformat_minor": 0
}